{
  "nbformat": 4,
  "nbformat_minor": 0,
  "metadata": {
    "colab": {
      "provenance": [],
      "gpuType": "T4"
    },
    "kernelspec": {
      "name": "python3",
      "display_name": "Python 3"
    },
    "language_info": {
      "name": "python"
    },
    "accelerator": "GPU"
  },
  "cells": [
    {
      "cell_type": "code",
      "execution_count": 13,
      "metadata": {
        "colab": {
          "base_uri": "https://localhost:8080/"
        },
        "id": "UGRGZRBL4yrF",
        "outputId": "a5b988c2-db88-4e6c-a4ae-a75a9f469103"
      },
      "outputs": [
        {
          "output_type": "stream",
          "name": "stdout",
          "text": [
            "Cloning into 'EEL6812_DeepFool_Project'...\n",
            "remote: Enumerating objects: 96, done.\u001b[K\n",
            "remote: Counting objects: 100% (3/3), done.\u001b[K\n",
            "remote: Compressing objects: 100% (2/2), done.\u001b[K\n",
            "remote: Total 96 (delta 2), reused 1 (delta 1), pack-reused 93\u001b[K\n",
            "Receiving objects: 100% (96/96), 33.99 MiB | 15.19 MiB/s, done.\n",
            "Resolving deltas: 100% (27/27), done.\n"
          ]
        }
      ],
      "source": [
        "!git clone https://github.com/ewatson2/EEL6812_DeepFool_Project"
      ]
    },
    {
      "cell_type": "markdown",
      "source": [
        "Сменить директорию исполнения на вновь созданную папку \"EEL6812_DeepFool_Project\" проекта."
      ],
      "metadata": {
        "id": "Ttoo55Qg5Ind"
      }
    },
    {
      "cell_type": "code",
      "source": [
        "%cd EEL6812_DeepFool_Project/"
      ],
      "metadata": {
        "colab": {
          "base_uri": "https://localhost:8080/"
        },
        "id": "BvRj_UPf5LmQ",
        "outputId": "30ff873c-84c6-4973-b806-e4998bfe2217"
      },
      "execution_count": 14,
      "outputs": [
        {
          "output_type": "stream",
          "name": "stdout",
          "text": [
            "/content/EEL6812_DeepFool_Project/EEL6812_DeepFool_Project\n"
          ]
        }
      ]
    },
    {
      "cell_type": "markdown",
      "source": [
        "Выполнить импорт библиотек"
      ],
      "metadata": {
        "id": "ik_Ibd745Q6m"
      }
    },
    {
      "cell_type": "code",
      "source": [
        "import numpy as np\n",
        "import json, torch\n",
        "from torch.utils.data import DataLoader, random_split\n",
        "from torchvision import datasets, models\n",
        "from torchvision.transforms import transforms"
      ],
      "metadata": {
        "id": "TPM5uMnt5Rpb"
      },
      "execution_count": 15,
      "outputs": []
    },
    {
      "cell_type": "code",
      "source": [
        "from models.project_models import FC_500_150, LeNet_CIFAR, LeNet_MNIST, Net\n",
        "from utils.project_utils import get_clip_bounds, evaluate_attack, display_attack"
      ],
      "metadata": {
        "id": "NVCvkDCf5aXw"
      },
      "execution_count": 16,
      "outputs": []
    },
    {
      "cell_type": "markdown",
      "source": [
        "Установить случайное рандомное значение в виде переменной rand_seed={\"Порядковый номер ученика группы в Гугл-таблице\"}"
      ],
      "metadata": {
        "id": "8DHKTu7o5cIk"
      }
    },
    {
      "cell_type": "code",
      "source": [
        "rand_seed = 36"
      ],
      "metadata": {
        "id": "JCPSERL25fCY"
      },
      "execution_count": 17,
      "outputs": []
    },
    {
      "cell_type": "code",
      "source": [
        "np.random.seed(rand_seed)\n",
        "torch.manual_seed(rand_seed)"
      ],
      "metadata": {
        "colab": {
          "base_uri": "https://localhost:8080/"
        },
        "id": "odyCo5YD5ncQ",
        "outputId": "530b1f76-c11a-4628-f1ff-5b1033369cb6"
      },
      "execution_count": 18,
      "outputs": [
        {
          "output_type": "execute_result",
          "data": {
            "text/plain": [
              "<torch._C.Generator at 0x7c4d781c0d90>"
            ]
          },
          "metadata": {},
          "execution_count": 18
        }
      ]
    },
    {
      "cell_type": "code",
      "source": [
        "use_cuda = torch.cuda.is_available()\n",
        "device = torch.device('cuda' if use_cuda else 'cpu')"
      ],
      "metadata": {
        "id": "TeFQXElx5sm2"
      },
      "execution_count": 19,
      "outputs": []
    },
    {
      "cell_type": "markdown",
      "source": [
        "Загрузить датасет MNIST c параметрами"
      ],
      "metadata": {
        "id": "UcFJxD715v9m"
      }
    },
    {
      "cell_type": "code",
      "source": [
        "mnist_mean = 0.5\n",
        "mnist_std = 0.5\n",
        "mnist_dim = 28\n",
        "\n",
        "mnist_min, mnist_max = get_clip_bounds(mnist_mean, mnist_std, mnist_dim)\n",
        "mnist_min=mnist_min.to(device)\n",
        "mnist_max=mnist_max.to(device)\n",
        "\n",
        "mnist_tf=transforms.Compose([ transforms.ToTensor( ), transforms.Normalize( mean=mnist_mean, std=mnist_std)])\n",
        "mnist_tf_train=transforms.Compose([transforms.RandomHorizontalFlip(), transforms.ToTensor(), transforms.Normalize(mean=mnist_mean, std=mnist_std)])\n",
        "mnist_tf_inv=transforms.Compose([transforms.Normalize(mean=0.0, std=np.divide(1.0, mnist_std)), transforms.Normalize(mean=np.multiply(-1.0, mnist_std), std=1.0)])\n",
        "\n",
        "mnist_temp=datasets.MNIST(root='datasets/mnist', train=True, download=True, transform=mnist_tf_train)\n",
        "mnist_train, mnist_val=random_split(mnist_temp, [50000, 10000])\n",
        "mnist_test=datasets.MNIST(root='datasets/mnist', train=False, download=True, transform=mnist_tf)"
      ],
      "metadata": {
        "colab": {
          "base_uri": "https://localhost:8080/"
        },
        "id": "aQRZ4EXC5w1Z",
        "outputId": "02df8da1-c8c8-46bd-80eb-d76ae9a95393"
      },
      "execution_count": 20,
      "outputs": [
        {
          "output_type": "stream",
          "name": "stdout",
          "text": [
            "Downloading http://yann.lecun.com/exdb/mnist/train-images-idx3-ubyte.gz\n",
            "Downloading http://yann.lecun.com/exdb/mnist/train-images-idx3-ubyte.gz to datasets/mnist/MNIST/raw/train-images-idx3-ubyte.gz\n"
          ]
        },
        {
          "output_type": "stream",
          "name": "stderr",
          "text": [
            "100%|██████████| 9912422/9912422 [00:00<00:00, 325535068.27it/s]"
          ]
        },
        {
          "output_type": "stream",
          "name": "stdout",
          "text": [
            "Extracting datasets/mnist/MNIST/raw/train-images-idx3-ubyte.gz to datasets/mnist/MNIST/raw\n"
          ]
        },
        {
          "output_type": "stream",
          "name": "stderr",
          "text": [
            "\n"
          ]
        },
        {
          "output_type": "stream",
          "name": "stdout",
          "text": [
            "\n",
            "Downloading http://yann.lecun.com/exdb/mnist/train-labels-idx1-ubyte.gz\n",
            "Downloading http://yann.lecun.com/exdb/mnist/train-labels-idx1-ubyte.gz to datasets/mnist/MNIST/raw/train-labels-idx1-ubyte.gz\n"
          ]
        },
        {
          "output_type": "stream",
          "name": "stderr",
          "text": [
            "100%|██████████| 28881/28881 [00:00<00:00, 101030603.69it/s]\n"
          ]
        },
        {
          "output_type": "stream",
          "name": "stdout",
          "text": [
            "Extracting datasets/mnist/MNIST/raw/train-labels-idx1-ubyte.gz to datasets/mnist/MNIST/raw\n",
            "\n",
            "Downloading http://yann.lecun.com/exdb/mnist/t10k-images-idx3-ubyte.gz\n",
            "Downloading http://yann.lecun.com/exdb/mnist/t10k-images-idx3-ubyte.gz to datasets/mnist/MNIST/raw/t10k-images-idx3-ubyte.gz\n"
          ]
        },
        {
          "output_type": "stream",
          "name": "stderr",
          "text": [
            "100%|██████████| 1648877/1648877 [00:00<00:00, 191062557.58it/s]"
          ]
        },
        {
          "output_type": "stream",
          "name": "stdout",
          "text": [
            "Extracting datasets/mnist/MNIST/raw/t10k-images-idx3-ubyte.gz to datasets/mnist/MNIST/raw\n",
            "\n",
            "Downloading http://yann.lecun.com/exdb/mnist/t10k-labels-idx1-ubyte.gz\n",
            "Downloading http://yann.lecun.com/exdb/mnist/t10k-labels-idx1-ubyte.gz to datasets/mnist/MNIST/raw/t10k-labels-idx1-ubyte.gz\n"
          ]
        },
        {
          "output_type": "stream",
          "name": "stderr",
          "text": [
            "\n",
            "100%|██████████| 4542/4542 [00:00<00:00, 12072578.43it/s]\n"
          ]
        },
        {
          "output_type": "stream",
          "name": "stdout",
          "text": [
            "Extracting datasets/mnist/MNIST/raw/t10k-labels-idx1-ubyte.gz to datasets/mnist/MNIST/raw\n",
            "\n"
          ]
        }
      ]
    },
    {
      "cell_type": "markdown",
      "source": [
        "Загрузить датасет CIFAR-10 c параметрами"
      ],
      "metadata": {
        "id": "9oB6rsNa56CV"
      }
    },
    {
      "cell_type": "code",
      "source": [
        "cifar_mean = [0.491, 0.482, 0.447]\n",
        "cifar_std = [0.202, 0.199, 0.201]\n",
        "cifar_dim = 32\n",
        "\n",
        "cifar_min, cifar_max=get_clip_bounds(cifar_mean, cifar_std, cifar_dim)\n",
        "cifar_min=cifar_min.to(device)\n",
        "cifar_max=cifar_max.to(device)\n",
        "\n",
        "cifar_tf=transforms.Compose([transforms.ToTensor(), transforms.Normalize(mean=cifar_mean, std=cifar_std)])\n",
        "cifar_tf_train=transforms.Compose([transforms.RandomCrop(size=cifar_dim, padding=4), transforms.RandomHorizontalFlip(), transforms.ToTensor(), transforms.Normalize(mean=cifar_mean, std=cifar_std)])\n",
        "cifar_tf_inv=transforms.Compose([transforms.Normalize( mean=[0.0, 0.0, 0.0], std=np.divide(1.0,cifar_std)), transforms.Normalize(mean=np.multiply(-1.0, cifar_mean), std=[1.0, 1.0, 1.0])])\n",
        "\n",
        "cifar_temp=datasets.CIFAR10(root='datasets/cifar-10', train=True, download=True, transform=cifar_tf_train)\n",
        "cifar_train, cifar_val=random_split(cifar_temp, [40000, 10000])\n",
        "cifar_test=datasets.CIFAR10(root='datasets/cifar-10', train=False, download=True, transform=cifar_tf)\n",
        "\n",
        "cifar_classes=['airplane', 'automobile', 'bird', 'cat', 'deer', 'dog', 'frog', 'horse', 'ship', 'truck']"
      ],
      "metadata": {
        "colab": {
          "base_uri": "https://localhost:8080/"
        },
        "id": "Zf-oHpNH56vz",
        "outputId": "fe897025-d028-41b2-b806-adc71ddb181e"
      },
      "execution_count": 21,
      "outputs": [
        {
          "output_type": "stream",
          "name": "stdout",
          "text": [
            "Downloading https://www.cs.toronto.edu/~kriz/cifar-10-python.tar.gz to datasets/cifar-10/cifar-10-python.tar.gz\n"
          ]
        },
        {
          "output_type": "stream",
          "name": "stderr",
          "text": [
            "100%|██████████| 170498071/170498071 [00:19<00:00, 8699140.15it/s]\n"
          ]
        },
        {
          "output_type": "stream",
          "name": "stdout",
          "text": [
            "Extracting datasets/cifar-10/cifar-10-python.tar.gz to datasets/cifar-10\n",
            "Files already downloaded and verified\n"
          ]
        }
      ]
    },
    {
      "cell_type": "markdown",
      "source": [
        "Выполнить настройку и загрузку DataLoader"
      ],
      "metadata": {
        "id": "gUtFXr0w6Nnk"
      }
    },
    {
      "cell_type": "code",
      "source": [
        "batch_size = 64\n",
        "workers = 4\n",
        "\n",
        "mnist_loader_train=DataLoader(mnist_train,batch_size=batch_size,shuffle=True,num_workers=workers)\n",
        "mnist_loader_val=DataLoader(mnist_val,batch_size=batch_size,shuffle=False,num_workers=workers)\n",
        "mnist_loader_test=DataLoader(mnist_test,batch_size=batch_size,shuffle=False,num_workers=workers)\n",
        "cifar_loader_train=DataLoader(cifar_train,batch_size=batch_size,shuffle=True,num_workers=workers)\n",
        "cifar_loader_val=DataLoader(cifar_val,batch_size=batch_size,shuffle=False,num_workers=workers)\n",
        "cifar_loader_test=DataLoader(cifar_test,batch_size=batch_size,shuffle=False,num_workers=workers)"
      ],
      "metadata": {
        "colab": {
          "base_uri": "https://localhost:8080/"
        },
        "id": "BFYd_VIB6OMS",
        "outputId": "9c073ca4-aad0-4415-fa1d-b2941ead4ad9"
      },
      "execution_count": 22,
      "outputs": [
        {
          "output_type": "stream",
          "name": "stderr",
          "text": [
            "/usr/local/lib/python3.10/dist-packages/torch/utils/data/dataloader.py:560: UserWarning: This DataLoader will create 4 worker processes in total. Our suggested max number of worker in current system is 2, which is smaller than what this DataLoader is going to create. Please be aware that excessive worker creation might get DataLoader running slow or even freeze, lower the worker number to avoid potential slowness/freeze if necessary.\n",
            "  warnings.warn(_create_warning_msg(\n"
          ]
        }
      ]
    },
    {
      "cell_type": "markdown",
      "source": [
        "Загрузить и оценить стойкость модели LeNet к FGSM и DeepFool атакам"
      ],
      "metadata": {
        "id": "_l1aX_rX6Y3S"
      }
    },
    {
      "cell_type": "code",
      "source": [
        "fgsm_eps = 0.6\n",
        "\n",
        "model = LeNet_MNIST().to(device)\n",
        "model.load_state_dict(torch.load('weights/clean/mnist_lenet.pth', map_location=torch.device('cpu')))\n",
        "\n",
        "evaluate_attack('mnist_lenet_fgsm.csv', 'results', device, model, mnist_loader_test, mnist_min, mnist_max, fgsm_eps, is_fgsm=True)\n",
        "\n",
        "print('')\n",
        "\n",
        "batch = 64\n",
        "num_classes = 10\n",
        "overshoot = 0.02\n",
        "max_iter = 50\n",
        "deep_arg = [batch, num_classes, overshoot, max_iter]\n",
        "\n",
        "evaluate_attack('mnist_lenet_deepfool.csv', 'results', device, model, mnist_loader_test, mnist_min, mnist_max, deep_arg, is_fgsm=False)\n",
        "\n",
        "if device.type == 'cuda':\n",
        "  torch.cuda.empty_cache()\n",
        ""
      ],
      "metadata": {
        "colab": {
          "base_uri": "https://localhost:8080/"
        },
        "id": "GizP5tE56awP",
        "outputId": "ca69c844-bdb7-4eba-e1af-611e94e1eb25"
      },
      "execution_count": 23,
      "outputs": [
        {
          "output_type": "stream",
          "name": "stdout",
          "text": [
            "FGSM Test Error : 87.89%\n",
            "FGSM Robustness : 4.58e-01\n",
            "FGSM Time (All Images) : 0.29 s\n",
            "FGSM Time (Per Image) : 28.86 us\n",
            "\n",
            "DeepFool Test Error : 98.74%\n",
            "DeepFool Robustness : 9.64e-02\n",
            "DeepFool Time (All Images) : 193.32 s\n",
            "DeepFool Time (Per Image) : 19.33 ms\n"
          ]
        }
      ]
    },
    {
      "cell_type": "markdown",
      "source": [
        "Загрузить и оценить стойкость модели FC к FGSM и DeepFool атакам"
      ],
      "metadata": {
        "id": "R9PAeQDT6g-6"
      }
    },
    {
      "cell_type": "code",
      "source": [
        "fgsm_eps = 0.2\n",
        "\n",
        "model = FC_500_150().to(device)\n",
        "model.load_state_dict(torch.load('weights/clean/mnist_fc.pth', map_location=torch.device('cpu')))\n",
        "\n",
        "evaluate_attack('mnist_fc_fgsm.csv', 'results', device, model, mnist_loader_test, mnist_min, mnist_max, fgsm_eps, is_fgsm=True)\n",
        "\n",
        "print('')\n",
        "\n",
        "batch = 64\n",
        "num_classes = 10\n",
        "overshoot = 0.02\n",
        "max_iter = 50\n",
        "deep_arg = [batch, num_classes, overshoot, max_iter]\n",
        "\n",
        "evaluate_attack('mnist_fc_deepfool.csv', 'results', device, model, mnist_loader_test, mnist_min, mnist_max, deep_arg, is_fgsm=False)\n",
        "\n",
        "if device.type == 'cuda':\n",
        "  torch.cuda.empty_cache()\n",
        ""
      ],
      "metadata": {
        "colab": {
          "base_uri": "https://localhost:8080/"
        },
        "id": "-kXouhKW6hkY",
        "outputId": "43c1f2d9-fb4d-4bd2-e9df-25041533d778"
      },
      "execution_count": 24,
      "outputs": [
        {
          "output_type": "stream",
          "name": "stdout",
          "text": [
            "FGSM Test Error : 87.08%\n",
            "FGSM Robustness : 1.56e-01\n",
            "FGSM Time (All Images) : 0.15 s\n",
            "FGSM Time (Per Image) : 14.99 us\n",
            "\n",
            "DeepFool Test Error : 97.92%\n",
            "DeepFool Robustness : 6.78e-02\n",
            "DeepFool Time (All Images) : 141.81 s\n",
            "DeepFool Time (Per Image) : 14.18 ms\n"
          ]
        }
      ]
    }
  ]
}